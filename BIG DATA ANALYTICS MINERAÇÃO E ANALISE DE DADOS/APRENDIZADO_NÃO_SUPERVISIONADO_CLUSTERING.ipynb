{
  "nbformat": 4,
  "nbformat_minor": 0,
  "metadata": {
    "colab": {
      "provenance": []
    },
    "kernelspec": {
      "name": "python3",
      "display_name": "Python 3"
    }
  },
  "cells": [
    {
      "cell_type": "markdown",
      "metadata": {
        "id": "zQX8WQPeHTwc"
      },
      "source": [
        "# **Tarefa de Aprofundamento 6**\n",
        "## CASO: Clustering, Segmentando Países pela Força de Trabalho\n",
        "---\n",
        "\n",
        "<br>\n",
        "<br>\n",
        "<br>\n",
        "\n",
        "Com base na atividade *Tarefa de Aprofundamento 5*, **Pesquise e Discuta apenas uma** das perguntas a seguir.\n"
      ]
    },
    {
      "cell_type": "markdown",
      "metadata": {
        "id": "nGZH-j05q8WZ"
      },
      "source": [
        "### 1. Pesquise outros modelos de clusterização e exemplifique uma situação em que um desses modelos pesquisados apresenta resultados melhores que os modelos de clusterização hierárquica e kmédias.\n",
        "\n",
        "<small>\n",
        "Talvez você queira aplicar esse outro modelo aos dados da Tarefa 5 e compartilhar com os colegas. Mas isso é opcional."
      ]
    },
    {
      "cell_type": "markdown",
      "metadata": {
        "id": "Oar--2gn9EJ0"
      },
      "source": [
        "*Sua resposta aqui em 1 (um) parágrafo.*"
      ]
    },
    {
      "cell_type": "markdown",
      "metadata": {
        "id": "p32U1tt_9XBd"
      },
      "source": [
        "### 2. A clusterização é bastante empregada para a agrupamento de documentos como emails, páginas de notícias etc. Pesquise qual a métrica de similaridade (distância) normalmente empregada na clusterização de documentos e explique por quê."
      ]
    },
    {
      "cell_type": "markdown",
      "metadata": {
        "id": "-tdb6x3s9XBd"
      },
      "source": [
        "A métrica de similaridade mais comumente utilizada na clusterização de documentos é a similaridade do cosseno. Isso ocorre porque os documentos são representados por vetores de termos, onde cada elemento do vetor representa a frequência de um termo específico no documento."
      ]
    },
    {
      "cell_type": "markdown",
      "metadata": {
        "id": "xR8J3aMB-TjC"
      },
      "source": [
        "## Referências"
      ]
    },
    {
      "cell_type": "markdown",
      "metadata": {
        "id": "vxyPgZ60-TjC"
      },
      "source": [
        "https://www.locus.ufv.br/bitstream/123456789/11571/1/texto%20completo.pdf\n",
        "\n",
        "https://teses.usp.br/teses/disponiveis/55/55134/tde-24012013-155903/publico/DissertacaoFrizziSRS.pdf\n",
        "\n",
        "https://doity.com.br/media/doity/submissoes/5eb96e3e-7ae0-435f-a8a4-64ed0a883292-resumo-expandido-sapct-cimatec-2020pdf.pdf"
      ]
    },
    {
      "cell_type": "code",
      "source": [],
      "metadata": {
        "id": "D2Dqdio3rUOE"
      },
      "execution_count": null,
      "outputs": []
    }
  ]
}